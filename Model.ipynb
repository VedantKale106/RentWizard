{
 "cells": [
  {
   "cell_type": "code",
   "execution_count": 1,
   "id": "7dd92241-8996-49d6-9f5a-48fb41977fae",
   "metadata": {},
   "outputs": [],
   "source": [
    "import pandas as pd\n",
    "import numpy as np\n",
    "import math\n",
    "from matplotlib import pyplot as plt \n",
    "%matplotlib inline\n",
    "import matplotlib\n",
    "matplotlib.rcParams[\"figure.figsize\"]= (20,10)"
   ]
  },
  {
   "cell_type": "code",
   "execution_count": 2,
   "id": "d0e28207-3d91-4ac4-8b1d-8ff887dd4e02",
   "metadata": {},
   "outputs": [],
   "source": [
    "df = pd.read_csv(\"train.csv\")"
   ]
  },
  {
   "cell_type": "code",
   "execution_count": 3,
   "id": "d85ef61d-1ea4-4ae5-a801-e4111ef141c7",
   "metadata": {},
   "outputs": [],
   "source": [
    "df = df[['bedroom','bathrooms','area','furnishing','avalable_for','rent']]"
   ]
  },
  {
   "cell_type": "code",
   "execution_count": 4,
   "id": "a0221a14-419a-46d2-8075-86c8161ff4bf",
   "metadata": {},
   "outputs": [
    {
     "data": {
      "text/html": [
       "<div>\n",
       "<style scoped>\n",
       "    .dataframe tbody tr th:only-of-type {\n",
       "        vertical-align: middle;\n",
       "    }\n",
       "\n",
       "    .dataframe tbody tr th {\n",
       "        vertical-align: top;\n",
       "    }\n",
       "\n",
       "    .dataframe thead th {\n",
       "        text-align: right;\n",
       "    }\n",
       "</style>\n",
       "<table border=\"1\" class=\"dataframe\">\n",
       "  <thead>\n",
       "    <tr style=\"text-align: right;\">\n",
       "      <th></th>\n",
       "      <th>bedroom</th>\n",
       "      <th>bathrooms</th>\n",
       "      <th>area</th>\n",
       "      <th>furnishing</th>\n",
       "      <th>avalable_for</th>\n",
       "      <th>rent</th>\n",
       "    </tr>\n",
       "  </thead>\n",
       "  <tbody>\n",
       "    <tr>\n",
       "      <th>0</th>\n",
       "      <td>2</td>\n",
       "      <td>2</td>\n",
       "      <td>1050.0</td>\n",
       "      <td>Unfurnished</td>\n",
       "      <td>All</td>\n",
       "      <td>20000.0</td>\n",
       "    </tr>\n",
       "    <tr>\n",
       "      <th>1</th>\n",
       "      <td>2</td>\n",
       "      <td>2</td>\n",
       "      <td>760.0</td>\n",
       "      <td>Unfurnished</td>\n",
       "      <td>All</td>\n",
       "      <td>14000.0</td>\n",
       "    </tr>\n",
       "    <tr>\n",
       "      <th>2</th>\n",
       "      <td>3</td>\n",
       "      <td>3</td>\n",
       "      <td>0.0</td>\n",
       "      <td>Semifurnished</td>\n",
       "      <td>All</td>\n",
       "      <td>22999.0</td>\n",
       "    </tr>\n",
       "    <tr>\n",
       "      <th>3</th>\n",
       "      <td>1</td>\n",
       "      <td>1</td>\n",
       "      <td>628.0</td>\n",
       "      <td>Furnished</td>\n",
       "      <td>Family Only</td>\n",
       "      <td>13000.0</td>\n",
       "    </tr>\n",
       "    <tr>\n",
       "      <th>4</th>\n",
       "      <td>2</td>\n",
       "      <td>2</td>\n",
       "      <td>668.0</td>\n",
       "      <td>Semifurnished</td>\n",
       "      <td>Family , Bachelors (Men Only)</td>\n",
       "      <td>7500.0</td>\n",
       "    </tr>\n",
       "  </tbody>\n",
       "</table>\n",
       "</div>"
      ],
      "text/plain": [
       "   bedroom  bathrooms    area     furnishing                   avalable_for  \\\n",
       "0        2          2  1050.0    Unfurnished                            All   \n",
       "1        2          2   760.0    Unfurnished                            All   \n",
       "2        3          3     0.0  Semifurnished                            All   \n",
       "3        1          1   628.0      Furnished                    Family Only   \n",
       "4        2          2   668.0  Semifurnished  Family , Bachelors (Men Only)   \n",
       "\n",
       "      rent  \n",
       "0  20000.0  \n",
       "1  14000.0  \n",
       "2  22999.0  \n",
       "3  13000.0  \n",
       "4   7500.0  "
      ]
     },
     "execution_count": 4,
     "metadata": {},
     "output_type": "execute_result"
    }
   ],
   "source": [
    "df.head()"
   ]
  },
  {
   "cell_type": "code",
   "execution_count": 5,
   "id": "7c731d08-9e0c-487c-b105-754393cc99a4",
   "metadata": {},
   "outputs": [
    {
     "data": {
      "text/plain": [
       "65304"
      ]
     },
     "execution_count": 5,
     "metadata": {},
     "output_type": "execute_result"
    }
   ],
   "source": [
    "df = df.rename({\"bedroom\": \"bedrooms\"}, axis=1)\n",
    "df = df.rename({\"avalable_for\": \"available_for\"}, axis=1)\n",
    "df.size"
   ]
  },
  {
   "cell_type": "code",
   "execution_count": 6,
   "id": "a74c0717-5050-4072-95ee-28f4a8315f14",
   "metadata": {},
   "outputs": [
    {
     "data": {
      "text/plain": [
       "bedrooms         0\n",
       "bathrooms        0\n",
       "area             0\n",
       "furnishing       0\n",
       "available_for    0\n",
       "rent             0\n",
       "dtype: int64"
      ]
     },
     "execution_count": 6,
     "metadata": {},
     "output_type": "execute_result"
    }
   ],
   "source": [
    "df = df.dropna()\n",
    "df.isnull().sum()"
   ]
  },
  {
   "cell_type": "code",
   "execution_count": 7,
   "id": "ef74dbe9-186f-4ac9-8282-5f3b1e517e64",
   "metadata": {},
   "outputs": [],
   "source": [
    "median = df.area[df.area != 0].median()  # Calculate the median of non-zero values\n",
    "df.area = df.area.replace(0, median) "
   ]
  },
  {
   "cell_type": "code",
   "execution_count": 8,
   "id": "4f65ca3b-b7ad-4e67-8bdf-0aeba5cc297e",
   "metadata": {},
   "outputs": [],
   "source": [
    "df = df[df['furnishing'] != 'Unfurnishe']"
   ]
  },
  {
   "cell_type": "code",
   "execution_count": 9,
   "id": "26b4792b-f9e4-4222-85d4-796e3fd6ea61",
   "metadata": {},
   "outputs": [
    {
     "data": {
      "text/plain": [
       "array(['All', 'Family Only', 'Family , Bachelors (Men Only)',\n",
       "       'Family , Bachelors (Women Only)', 'Bachelors (Men/Women)',\n",
       "       'Bachelors (Women Only)', 'Bachelors (Men Only)'], dtype=object)"
      ]
     },
     "execution_count": 9,
     "metadata": {},
     "output_type": "execute_result"
    }
   ],
   "source": [
    "df[\"available_for\"].unique()"
   ]
  },
  {
   "cell_type": "code",
   "execution_count": 10,
   "id": "79fa8871-9cbf-4c66-a3ec-44bb37c6e5e2",
   "metadata": {},
   "outputs": [],
   "source": [
    "def clean(x):\n",
    "    if 'Family ' in x:\n",
    "        return 'Family'\n",
    "    if 'Bachelors' in x:\n",
    "        return 'Bachelors'\n",
    "    return x\n",
    "\n",
    "df['available_for'] = df['available_for'].apply(clean)"
   ]
  },
  {
   "cell_type": "code",
   "execution_count": 11,
   "id": "65b3d5ef-95c6-4de6-9bd3-52e29426e455",
   "metadata": {},
   "outputs": [
    {
     "data": {
      "text/plain": [
       "array(['All', 'Family', 'Bachelors'], dtype=object)"
      ]
     },
     "execution_count": 11,
     "metadata": {},
     "output_type": "execute_result"
    }
   ],
   "source": [
    "df[\"available_for\"].unique()"
   ]
  },
  {
   "cell_type": "code",
   "execution_count": 12,
   "id": "b178dfde-ea1d-49d2-bdd3-a1837f1a1879",
   "metadata": {},
   "outputs": [
    {
     "data": {
      "text/plain": [
       "array([ 2,  3,  1,  4, 22, 10,  5,  7,  6, 20], dtype=int64)"
      ]
     },
     "execution_count": 12,
     "metadata": {},
     "output_type": "execute_result"
    }
   ],
   "source": [
    "df[\"bedrooms\"].unique()"
   ]
  },
  {
   "cell_type": "code",
   "execution_count": 13,
   "id": "ed5c8f83-158d-4f04-9d60-dcc4dee21366",
   "metadata": {},
   "outputs": [],
   "source": [
    "df = df[df[\"bedrooms\"] <= 9]"
   ]
  },
  {
   "cell_type": "code",
   "execution_count": 14,
   "id": "a98df334-e322-4996-9329-dd4676622377",
   "metadata": {},
   "outputs": [
    {
     "data": {
      "text/plain": [
       "array([2, 3, 1, 4, 5, 7, 6], dtype=int64)"
      ]
     },
     "execution_count": 14,
     "metadata": {},
     "output_type": "execute_result"
    }
   ],
   "source": [
    "df[\"bedrooms\"].unique()"
   ]
  },
  {
   "cell_type": "code",
   "execution_count": 15,
   "id": "dd0bb049-0fa3-4ee5-9655-2023fead4772",
   "metadata": {},
   "outputs": [
    {
     "data": {
      "text/plain": [
       "array([2, 3, 1, 4, 5, 6, 7], dtype=int64)"
      ]
     },
     "execution_count": 15,
     "metadata": {},
     "output_type": "execute_result"
    }
   ],
   "source": [
    "df[\"bathrooms\"].unique()"
   ]
  },
  {
   "cell_type": "code",
   "execution_count": 16,
   "id": "6922586f-ee9b-409c-9bce-8bbec9e2ead2",
   "metadata": {},
   "outputs": [
    {
     "data": {
      "text/html": [
       "<div>\n",
       "<style scoped>\n",
       "    .dataframe tbody tr th:only-of-type {\n",
       "        vertical-align: middle;\n",
       "    }\n",
       "\n",
       "    .dataframe tbody tr th {\n",
       "        vertical-align: top;\n",
       "    }\n",
       "\n",
       "    .dataframe thead th {\n",
       "        text-align: right;\n",
       "    }\n",
       "</style>\n",
       "<table border=\"1\" class=\"dataframe\">\n",
       "  <thead>\n",
       "    <tr style=\"text-align: right;\">\n",
       "      <th></th>\n",
       "      <th>bedrooms</th>\n",
       "      <th>bathrooms</th>\n",
       "      <th>area</th>\n",
       "      <th>furnishing</th>\n",
       "      <th>available_for</th>\n",
       "      <th>rent</th>\n",
       "    </tr>\n",
       "  </thead>\n",
       "  <tbody>\n",
       "    <tr>\n",
       "      <th>0</th>\n",
       "      <td>2</td>\n",
       "      <td>2</td>\n",
       "      <td>1050.0</td>\n",
       "      <td>Unfurnished</td>\n",
       "      <td>All</td>\n",
       "      <td>20000.0</td>\n",
       "    </tr>\n",
       "    <tr>\n",
       "      <th>1</th>\n",
       "      <td>2</td>\n",
       "      <td>2</td>\n",
       "      <td>760.0</td>\n",
       "      <td>Unfurnished</td>\n",
       "      <td>All</td>\n",
       "      <td>14000.0</td>\n",
       "    </tr>\n",
       "    <tr>\n",
       "      <th>2</th>\n",
       "      <td>3</td>\n",
       "      <td>3</td>\n",
       "      <td>750.0</td>\n",
       "      <td>Semifurnished</td>\n",
       "      <td>All</td>\n",
       "      <td>22999.0</td>\n",
       "    </tr>\n",
       "    <tr>\n",
       "      <th>3</th>\n",
       "      <td>1</td>\n",
       "      <td>1</td>\n",
       "      <td>628.0</td>\n",
       "      <td>Furnished</td>\n",
       "      <td>Family</td>\n",
       "      <td>13000.0</td>\n",
       "    </tr>\n",
       "    <tr>\n",
       "      <th>4</th>\n",
       "      <td>2</td>\n",
       "      <td>2</td>\n",
       "      <td>668.0</td>\n",
       "      <td>Semifurnished</td>\n",
       "      <td>Family</td>\n",
       "      <td>7500.0</td>\n",
       "    </tr>\n",
       "    <tr>\n",
       "      <th>...</th>\n",
       "      <td>...</td>\n",
       "      <td>...</td>\n",
       "      <td>...</td>\n",
       "      <td>...</td>\n",
       "      <td>...</td>\n",
       "      <td>...</td>\n",
       "    </tr>\n",
       "    <tr>\n",
       "      <th>10879</th>\n",
       "      <td>2</td>\n",
       "      <td>1</td>\n",
       "      <td>750.0</td>\n",
       "      <td>Unfurnished</td>\n",
       "      <td>Family</td>\n",
       "      <td>15000.0</td>\n",
       "    </tr>\n",
       "    <tr>\n",
       "      <th>10880</th>\n",
       "      <td>2</td>\n",
       "      <td>1</td>\n",
       "      <td>750.0</td>\n",
       "      <td>Unfurnished</td>\n",
       "      <td>All</td>\n",
       "      <td>11000.0</td>\n",
       "    </tr>\n",
       "    <tr>\n",
       "      <th>10881</th>\n",
       "      <td>3</td>\n",
       "      <td>4</td>\n",
       "      <td>2390.0</td>\n",
       "      <td>Unfurnished</td>\n",
       "      <td>Family</td>\n",
       "      <td>55000.0</td>\n",
       "    </tr>\n",
       "    <tr>\n",
       "      <th>10882</th>\n",
       "      <td>2</td>\n",
       "      <td>2</td>\n",
       "      <td>563.0</td>\n",
       "      <td>Semifurnished</td>\n",
       "      <td>Family</td>\n",
       "      <td>14000.0</td>\n",
       "    </tr>\n",
       "    <tr>\n",
       "      <th>10883</th>\n",
       "      <td>1</td>\n",
       "      <td>1</td>\n",
       "      <td>500.0</td>\n",
       "      <td>Furnished</td>\n",
       "      <td>All</td>\n",
       "      <td>23000.0</td>\n",
       "    </tr>\n",
       "  </tbody>\n",
       "</table>\n",
       "<p>10847 rows × 6 columns</p>\n",
       "</div>"
      ],
      "text/plain": [
       "       bedrooms  bathrooms    area     furnishing available_for     rent\n",
       "0             2          2  1050.0    Unfurnished           All  20000.0\n",
       "1             2          2   760.0    Unfurnished           All  14000.0\n",
       "2             3          3   750.0  Semifurnished           All  22999.0\n",
       "3             1          1   628.0      Furnished        Family  13000.0\n",
       "4             2          2   668.0  Semifurnished        Family   7500.0\n",
       "...         ...        ...     ...            ...           ...      ...\n",
       "10879         2          1   750.0    Unfurnished        Family  15000.0\n",
       "10880         2          1   750.0    Unfurnished           All  11000.0\n",
       "10881         3          4  2390.0    Unfurnished        Family  55000.0\n",
       "10882         2          2   563.0  Semifurnished        Family  14000.0\n",
       "10883         1          1   500.0      Furnished           All  23000.0\n",
       "\n",
       "[10847 rows x 6 columns]"
      ]
     },
     "execution_count": 16,
     "metadata": {},
     "output_type": "execute_result"
    }
   ],
   "source": [
    "df"
   ]
  },
  {
   "cell_type": "code",
   "execution_count": 17,
   "id": "567cd052-c252-470e-a132-3e8c6526a936",
   "metadata": {},
   "outputs": [],
   "source": [
    "df['price_per_sqft'] = df['rent']/df['area']"
   ]
  },
  {
   "cell_type": "code",
   "execution_count": 18,
   "id": "134d9580-8cc9-43bd-8b80-3eb8b0d63d9e",
   "metadata": {},
   "outputs": [
    {
     "data": {
      "text/html": [
       "<div>\n",
       "<style scoped>\n",
       "    .dataframe tbody tr th:only-of-type {\n",
       "        vertical-align: middle;\n",
       "    }\n",
       "\n",
       "    .dataframe tbody tr th {\n",
       "        vertical-align: top;\n",
       "    }\n",
       "\n",
       "    .dataframe thead th {\n",
       "        text-align: right;\n",
       "    }\n",
       "</style>\n",
       "<table border=\"1\" class=\"dataframe\">\n",
       "  <thead>\n",
       "    <tr style=\"text-align: right;\">\n",
       "      <th></th>\n",
       "      <th>bedrooms</th>\n",
       "      <th>bathrooms</th>\n",
       "      <th>area</th>\n",
       "      <th>furnishing</th>\n",
       "      <th>available_for</th>\n",
       "      <th>rent</th>\n",
       "      <th>price_per_sqft</th>\n",
       "    </tr>\n",
       "  </thead>\n",
       "  <tbody>\n",
       "    <tr>\n",
       "      <th>0</th>\n",
       "      <td>2</td>\n",
       "      <td>2</td>\n",
       "      <td>1050.0</td>\n",
       "      <td>Unfurnished</td>\n",
       "      <td>All</td>\n",
       "      <td>20000.0</td>\n",
       "      <td>19.047619</td>\n",
       "    </tr>\n",
       "    <tr>\n",
       "      <th>1</th>\n",
       "      <td>2</td>\n",
       "      <td>2</td>\n",
       "      <td>760.0</td>\n",
       "      <td>Unfurnished</td>\n",
       "      <td>All</td>\n",
       "      <td>14000.0</td>\n",
       "      <td>18.421053</td>\n",
       "    </tr>\n",
       "    <tr>\n",
       "      <th>2</th>\n",
       "      <td>3</td>\n",
       "      <td>3</td>\n",
       "      <td>750.0</td>\n",
       "      <td>Semifurnished</td>\n",
       "      <td>All</td>\n",
       "      <td>22999.0</td>\n",
       "      <td>30.665333</td>\n",
       "    </tr>\n",
       "    <tr>\n",
       "      <th>3</th>\n",
       "      <td>1</td>\n",
       "      <td>1</td>\n",
       "      <td>628.0</td>\n",
       "      <td>Furnished</td>\n",
       "      <td>Family</td>\n",
       "      <td>13000.0</td>\n",
       "      <td>20.700637</td>\n",
       "    </tr>\n",
       "    <tr>\n",
       "      <th>4</th>\n",
       "      <td>2</td>\n",
       "      <td>2</td>\n",
       "      <td>668.0</td>\n",
       "      <td>Semifurnished</td>\n",
       "      <td>Family</td>\n",
       "      <td>7500.0</td>\n",
       "      <td>11.227545</td>\n",
       "    </tr>\n",
       "    <tr>\n",
       "      <th>...</th>\n",
       "      <td>...</td>\n",
       "      <td>...</td>\n",
       "      <td>...</td>\n",
       "      <td>...</td>\n",
       "      <td>...</td>\n",
       "      <td>...</td>\n",
       "      <td>...</td>\n",
       "    </tr>\n",
       "    <tr>\n",
       "      <th>10879</th>\n",
       "      <td>2</td>\n",
       "      <td>1</td>\n",
       "      <td>750.0</td>\n",
       "      <td>Unfurnished</td>\n",
       "      <td>Family</td>\n",
       "      <td>15000.0</td>\n",
       "      <td>20.000000</td>\n",
       "    </tr>\n",
       "    <tr>\n",
       "      <th>10880</th>\n",
       "      <td>2</td>\n",
       "      <td>1</td>\n",
       "      <td>750.0</td>\n",
       "      <td>Unfurnished</td>\n",
       "      <td>All</td>\n",
       "      <td>11000.0</td>\n",
       "      <td>14.666667</td>\n",
       "    </tr>\n",
       "    <tr>\n",
       "      <th>10881</th>\n",
       "      <td>3</td>\n",
       "      <td>4</td>\n",
       "      <td>2390.0</td>\n",
       "      <td>Unfurnished</td>\n",
       "      <td>Family</td>\n",
       "      <td>55000.0</td>\n",
       "      <td>23.012552</td>\n",
       "    </tr>\n",
       "    <tr>\n",
       "      <th>10882</th>\n",
       "      <td>2</td>\n",
       "      <td>2</td>\n",
       "      <td>563.0</td>\n",
       "      <td>Semifurnished</td>\n",
       "      <td>Family</td>\n",
       "      <td>14000.0</td>\n",
       "      <td>24.866785</td>\n",
       "    </tr>\n",
       "    <tr>\n",
       "      <th>10883</th>\n",
       "      <td>1</td>\n",
       "      <td>1</td>\n",
       "      <td>500.0</td>\n",
       "      <td>Furnished</td>\n",
       "      <td>All</td>\n",
       "      <td>23000.0</td>\n",
       "      <td>46.000000</td>\n",
       "    </tr>\n",
       "  </tbody>\n",
       "</table>\n",
       "<p>10847 rows × 7 columns</p>\n",
       "</div>"
      ],
      "text/plain": [
       "       bedrooms  bathrooms    area     furnishing available_for     rent  \\\n",
       "0             2          2  1050.0    Unfurnished           All  20000.0   \n",
       "1             2          2   760.0    Unfurnished           All  14000.0   \n",
       "2             3          3   750.0  Semifurnished           All  22999.0   \n",
       "3             1          1   628.0      Furnished        Family  13000.0   \n",
       "4             2          2   668.0  Semifurnished        Family   7500.0   \n",
       "...         ...        ...     ...            ...           ...      ...   \n",
       "10879         2          1   750.0    Unfurnished        Family  15000.0   \n",
       "10880         2          1   750.0    Unfurnished           All  11000.0   \n",
       "10881         3          4  2390.0    Unfurnished        Family  55000.0   \n",
       "10882         2          2   563.0  Semifurnished        Family  14000.0   \n",
       "10883         1          1   500.0      Furnished           All  23000.0   \n",
       "\n",
       "       price_per_sqft  \n",
       "0           19.047619  \n",
       "1           18.421053  \n",
       "2           30.665333  \n",
       "3           20.700637  \n",
       "4           11.227545  \n",
       "...               ...  \n",
       "10879       20.000000  \n",
       "10880       14.666667  \n",
       "10881       23.012552  \n",
       "10882       24.866785  \n",
       "10883       46.000000  \n",
       "\n",
       "[10847 rows x 7 columns]"
      ]
     },
     "execution_count": 18,
     "metadata": {},
     "output_type": "execute_result"
    }
   ],
   "source": [
    "df"
   ]
  },
  {
   "cell_type": "code",
   "execution_count": 19,
   "id": "d5402c31-17a1-4fd2-bcd9-11a6eb184c90",
   "metadata": {},
   "outputs": [
    {
     "data": {
      "text/plain": [
       "(10847, 7)"
      ]
     },
     "execution_count": 19,
     "metadata": {},
     "output_type": "execute_result"
    }
   ],
   "source": [
    "df.shape"
   ]
  },
  {
   "cell_type": "code",
   "execution_count": 20,
   "id": "8e13d33b-2c7b-40d1-a7bc-55b33fe7ac84",
   "metadata": {},
   "outputs": [],
   "source": [
    "df = df[~(df.area/df.bedrooms<300)]"
   ]
  },
  {
   "cell_type": "code",
   "execution_count": 21,
   "id": "391e834c-161f-4f6d-b741-cb492cde911d",
   "metadata": {},
   "outputs": [
    {
     "data": {
      "text/plain": [
       "(9855, 7)"
      ]
     },
     "execution_count": 21,
     "metadata": {},
     "output_type": "execute_result"
    }
   ],
   "source": [
    "df.shape"
   ]
  },
  {
   "cell_type": "code",
   "execution_count": 22,
   "id": "1595188d-4d83-41b2-9929-92a27b7dd291",
   "metadata": {},
   "outputs": [
    {
     "data": {
      "text/plain": [
       "count      9855.000000\n",
       "mean         37.114364\n",
       "std        1657.968462\n",
       "min           0.178633\n",
       "25%          15.333333\n",
       "50%          20.000000\n",
       "75%          24.691358\n",
       "max      164609.052000\n",
       "Name: price_per_sqft, dtype: float64"
      ]
     },
     "execution_count": 22,
     "metadata": {},
     "output_type": "execute_result"
    }
   ],
   "source": [
    "df.price_per_sqft.describe()"
   ]
  },
  {
   "cell_type": "code",
   "execution_count": 23,
   "id": "9b3d307d-4c40-43ba-860e-2fad3ce85e11",
   "metadata": {},
   "outputs": [
    {
     "data": {
      "text/plain": [
       "count    9216.000000\n",
       "mean       21.265959\n",
       "std         7.021129\n",
       "min        10.000000\n",
       "25%        16.159674\n",
       "50%        20.000000\n",
       "75%        25.000000\n",
       "max        66.666667\n",
       "Name: price_per_sqft, dtype: float64"
      ]
     },
     "execution_count": 23,
     "metadata": {},
     "output_type": "execute_result"
    }
   ],
   "source": [
    "df = df[~(df.price_per_sqft<10)]\n",
    "df = df[~(df.price_per_sqft>70)]\n",
    "df.price_per_sqft.describe()"
   ]
  },
  {
   "cell_type": "code",
   "execution_count": 24,
   "id": "920b9e97-03eb-4187-96ee-ccd6b2b6d7fc",
   "metadata": {},
   "outputs": [
    {
     "data": {
      "text/html": [
       "<div>\n",
       "<style scoped>\n",
       "    .dataframe tbody tr th:only-of-type {\n",
       "        vertical-align: middle;\n",
       "    }\n",
       "\n",
       "    .dataframe tbody tr th {\n",
       "        vertical-align: top;\n",
       "    }\n",
       "\n",
       "    .dataframe thead th {\n",
       "        text-align: right;\n",
       "    }\n",
       "</style>\n",
       "<table border=\"1\" class=\"dataframe\">\n",
       "  <thead>\n",
       "    <tr style=\"text-align: right;\">\n",
       "      <th></th>\n",
       "      <th>bedrooms</th>\n",
       "      <th>bathrooms</th>\n",
       "      <th>area</th>\n",
       "      <th>furnishing</th>\n",
       "      <th>available_for</th>\n",
       "      <th>rent</th>\n",
       "      <th>price_per_sqft</th>\n",
       "    </tr>\n",
       "  </thead>\n",
       "  <tbody>\n",
       "    <tr>\n",
       "      <th>0</th>\n",
       "      <td>2</td>\n",
       "      <td>2</td>\n",
       "      <td>1050.0</td>\n",
       "      <td>Unfurnished</td>\n",
       "      <td>All</td>\n",
       "      <td>20000.0</td>\n",
       "      <td>19.047619</td>\n",
       "    </tr>\n",
       "    <tr>\n",
       "      <th>1</th>\n",
       "      <td>2</td>\n",
       "      <td>2</td>\n",
       "      <td>760.0</td>\n",
       "      <td>Unfurnished</td>\n",
       "      <td>All</td>\n",
       "      <td>14000.0</td>\n",
       "      <td>18.421053</td>\n",
       "    </tr>\n",
       "    <tr>\n",
       "      <th>3</th>\n",
       "      <td>1</td>\n",
       "      <td>1</td>\n",
       "      <td>628.0</td>\n",
       "      <td>Furnished</td>\n",
       "      <td>Family</td>\n",
       "      <td>13000.0</td>\n",
       "      <td>20.700637</td>\n",
       "    </tr>\n",
       "    <tr>\n",
       "      <th>4</th>\n",
       "      <td>2</td>\n",
       "      <td>2</td>\n",
       "      <td>668.0</td>\n",
       "      <td>Semifurnished</td>\n",
       "      <td>Family</td>\n",
       "      <td>7500.0</td>\n",
       "      <td>11.227545</td>\n",
       "    </tr>\n",
       "    <tr>\n",
       "      <th>5</th>\n",
       "      <td>2</td>\n",
       "      <td>2</td>\n",
       "      <td>950.0</td>\n",
       "      <td>Semifurnished</td>\n",
       "      <td>Family</td>\n",
       "      <td>17000.0</td>\n",
       "      <td>17.894737</td>\n",
       "    </tr>\n",
       "    <tr>\n",
       "      <th>...</th>\n",
       "      <td>...</td>\n",
       "      <td>...</td>\n",
       "      <td>...</td>\n",
       "      <td>...</td>\n",
       "      <td>...</td>\n",
       "      <td>...</td>\n",
       "      <td>...</td>\n",
       "    </tr>\n",
       "    <tr>\n",
       "      <th>10878</th>\n",
       "      <td>2</td>\n",
       "      <td>1</td>\n",
       "      <td>900.0</td>\n",
       "      <td>Unfurnished</td>\n",
       "      <td>Family</td>\n",
       "      <td>15000.0</td>\n",
       "      <td>16.666667</td>\n",
       "    </tr>\n",
       "    <tr>\n",
       "      <th>10879</th>\n",
       "      <td>2</td>\n",
       "      <td>1</td>\n",
       "      <td>750.0</td>\n",
       "      <td>Unfurnished</td>\n",
       "      <td>Family</td>\n",
       "      <td>15000.0</td>\n",
       "      <td>20.000000</td>\n",
       "    </tr>\n",
       "    <tr>\n",
       "      <th>10880</th>\n",
       "      <td>2</td>\n",
       "      <td>1</td>\n",
       "      <td>750.0</td>\n",
       "      <td>Unfurnished</td>\n",
       "      <td>All</td>\n",
       "      <td>11000.0</td>\n",
       "      <td>14.666667</td>\n",
       "    </tr>\n",
       "    <tr>\n",
       "      <th>10881</th>\n",
       "      <td>3</td>\n",
       "      <td>4</td>\n",
       "      <td>2390.0</td>\n",
       "      <td>Unfurnished</td>\n",
       "      <td>Family</td>\n",
       "      <td>55000.0</td>\n",
       "      <td>23.012552</td>\n",
       "    </tr>\n",
       "    <tr>\n",
       "      <th>10883</th>\n",
       "      <td>1</td>\n",
       "      <td>1</td>\n",
       "      <td>500.0</td>\n",
       "      <td>Furnished</td>\n",
       "      <td>All</td>\n",
       "      <td>23000.0</td>\n",
       "      <td>46.000000</td>\n",
       "    </tr>\n",
       "  </tbody>\n",
       "</table>\n",
       "<p>9216 rows × 7 columns</p>\n",
       "</div>"
      ],
      "text/plain": [
       "       bedrooms  bathrooms    area     furnishing available_for     rent  \\\n",
       "0             2          2  1050.0    Unfurnished           All  20000.0   \n",
       "1             2          2   760.0    Unfurnished           All  14000.0   \n",
       "3             1          1   628.0      Furnished        Family  13000.0   \n",
       "4             2          2   668.0  Semifurnished        Family   7500.0   \n",
       "5             2          2   950.0  Semifurnished        Family  17000.0   \n",
       "...         ...        ...     ...            ...           ...      ...   \n",
       "10878         2          1   900.0    Unfurnished        Family  15000.0   \n",
       "10879         2          1   750.0    Unfurnished        Family  15000.0   \n",
       "10880         2          1   750.0    Unfurnished           All  11000.0   \n",
       "10881         3          4  2390.0    Unfurnished        Family  55000.0   \n",
       "10883         1          1   500.0      Furnished           All  23000.0   \n",
       "\n",
       "       price_per_sqft  \n",
       "0           19.047619  \n",
       "1           18.421053  \n",
       "3           20.700637  \n",
       "4           11.227545  \n",
       "5           17.894737  \n",
       "...               ...  \n",
       "10878       16.666667  \n",
       "10879       20.000000  \n",
       "10880       14.666667  \n",
       "10881       23.012552  \n",
       "10883       46.000000  \n",
       "\n",
       "[9216 rows x 7 columns]"
      ]
     },
     "execution_count": 24,
     "metadata": {},
     "output_type": "execute_result"
    }
   ],
   "source": [
    "df"
   ]
  },
  {
   "cell_type": "code",
   "execution_count": 25,
   "id": "c3d6094f-f942-46fc-bcab-ff575f3d1b4a",
   "metadata": {},
   "outputs": [
    {
     "data": {
      "text/plain": [
       "array([2, 0, 1])"
      ]
     },
     "execution_count": 25,
     "metadata": {},
     "output_type": "execute_result"
    }
   ],
   "source": [
    "from sklearn.preprocessing import LabelEncoder\n",
    "le_furnishing = LabelEncoder()\n",
    "df['furnishing'] = le_furnishing.fit_transform(df['furnishing'])\n",
    "df[\"furnishing\"].unique()"
   ]
  },
  {
   "cell_type": "code",
   "execution_count": 26,
   "id": "a57bf009-2f22-48e5-96e4-280c6f0859bf",
   "metadata": {},
   "outputs": [
    {
     "data": {
      "text/html": [
       "<div>\n",
       "<style scoped>\n",
       "    .dataframe tbody tr th:only-of-type {\n",
       "        vertical-align: middle;\n",
       "    }\n",
       "\n",
       "    .dataframe tbody tr th {\n",
       "        vertical-align: top;\n",
       "    }\n",
       "\n",
       "    .dataframe thead th {\n",
       "        text-align: right;\n",
       "    }\n",
       "</style>\n",
       "<table border=\"1\" class=\"dataframe\">\n",
       "  <thead>\n",
       "    <tr style=\"text-align: right;\">\n",
       "      <th></th>\n",
       "      <th>bedrooms</th>\n",
       "      <th>bathrooms</th>\n",
       "      <th>area</th>\n",
       "      <th>furnishing</th>\n",
       "      <th>available_for</th>\n",
       "      <th>rent</th>\n",
       "      <th>price_per_sqft</th>\n",
       "    </tr>\n",
       "  </thead>\n",
       "  <tbody>\n",
       "    <tr>\n",
       "      <th>0</th>\n",
       "      <td>2</td>\n",
       "      <td>2</td>\n",
       "      <td>1050.0</td>\n",
       "      <td>2</td>\n",
       "      <td>All</td>\n",
       "      <td>20000.0</td>\n",
       "      <td>19.047619</td>\n",
       "    </tr>\n",
       "    <tr>\n",
       "      <th>1</th>\n",
       "      <td>2</td>\n",
       "      <td>2</td>\n",
       "      <td>760.0</td>\n",
       "      <td>2</td>\n",
       "      <td>All</td>\n",
       "      <td>14000.0</td>\n",
       "      <td>18.421053</td>\n",
       "    </tr>\n",
       "    <tr>\n",
       "      <th>3</th>\n",
       "      <td>1</td>\n",
       "      <td>1</td>\n",
       "      <td>628.0</td>\n",
       "      <td>0</td>\n",
       "      <td>Family</td>\n",
       "      <td>13000.0</td>\n",
       "      <td>20.700637</td>\n",
       "    </tr>\n",
       "    <tr>\n",
       "      <th>4</th>\n",
       "      <td>2</td>\n",
       "      <td>2</td>\n",
       "      <td>668.0</td>\n",
       "      <td>1</td>\n",
       "      <td>Family</td>\n",
       "      <td>7500.0</td>\n",
       "      <td>11.227545</td>\n",
       "    </tr>\n",
       "    <tr>\n",
       "      <th>5</th>\n",
       "      <td>2</td>\n",
       "      <td>2</td>\n",
       "      <td>950.0</td>\n",
       "      <td>1</td>\n",
       "      <td>Family</td>\n",
       "      <td>17000.0</td>\n",
       "      <td>17.894737</td>\n",
       "    </tr>\n",
       "    <tr>\n",
       "      <th>...</th>\n",
       "      <td>...</td>\n",
       "      <td>...</td>\n",
       "      <td>...</td>\n",
       "      <td>...</td>\n",
       "      <td>...</td>\n",
       "      <td>...</td>\n",
       "      <td>...</td>\n",
       "    </tr>\n",
       "    <tr>\n",
       "      <th>10878</th>\n",
       "      <td>2</td>\n",
       "      <td>1</td>\n",
       "      <td>900.0</td>\n",
       "      <td>2</td>\n",
       "      <td>Family</td>\n",
       "      <td>15000.0</td>\n",
       "      <td>16.666667</td>\n",
       "    </tr>\n",
       "    <tr>\n",
       "      <th>10879</th>\n",
       "      <td>2</td>\n",
       "      <td>1</td>\n",
       "      <td>750.0</td>\n",
       "      <td>2</td>\n",
       "      <td>Family</td>\n",
       "      <td>15000.0</td>\n",
       "      <td>20.000000</td>\n",
       "    </tr>\n",
       "    <tr>\n",
       "      <th>10880</th>\n",
       "      <td>2</td>\n",
       "      <td>1</td>\n",
       "      <td>750.0</td>\n",
       "      <td>2</td>\n",
       "      <td>All</td>\n",
       "      <td>11000.0</td>\n",
       "      <td>14.666667</td>\n",
       "    </tr>\n",
       "    <tr>\n",
       "      <th>10881</th>\n",
       "      <td>3</td>\n",
       "      <td>4</td>\n",
       "      <td>2390.0</td>\n",
       "      <td>2</td>\n",
       "      <td>Family</td>\n",
       "      <td>55000.0</td>\n",
       "      <td>23.012552</td>\n",
       "    </tr>\n",
       "    <tr>\n",
       "      <th>10883</th>\n",
       "      <td>1</td>\n",
       "      <td>1</td>\n",
       "      <td>500.0</td>\n",
       "      <td>0</td>\n",
       "      <td>All</td>\n",
       "      <td>23000.0</td>\n",
       "      <td>46.000000</td>\n",
       "    </tr>\n",
       "  </tbody>\n",
       "</table>\n",
       "<p>9216 rows × 7 columns</p>\n",
       "</div>"
      ],
      "text/plain": [
       "       bedrooms  bathrooms    area  furnishing available_for     rent  \\\n",
       "0             2          2  1050.0           2           All  20000.0   \n",
       "1             2          2   760.0           2           All  14000.0   \n",
       "3             1          1   628.0           0        Family  13000.0   \n",
       "4             2          2   668.0           1        Family   7500.0   \n",
       "5             2          2   950.0           1        Family  17000.0   \n",
       "...         ...        ...     ...         ...           ...      ...   \n",
       "10878         2          1   900.0           2        Family  15000.0   \n",
       "10879         2          1   750.0           2        Family  15000.0   \n",
       "10880         2          1   750.0           2           All  11000.0   \n",
       "10881         3          4  2390.0           2        Family  55000.0   \n",
       "10883         1          1   500.0           0           All  23000.0   \n",
       "\n",
       "       price_per_sqft  \n",
       "0           19.047619  \n",
       "1           18.421053  \n",
       "3           20.700637  \n",
       "4           11.227545  \n",
       "5           17.894737  \n",
       "...               ...  \n",
       "10878       16.666667  \n",
       "10879       20.000000  \n",
       "10880       14.666667  \n",
       "10881       23.012552  \n",
       "10883       46.000000  \n",
       "\n",
       "[9216 rows x 7 columns]"
      ]
     },
     "execution_count": 26,
     "metadata": {},
     "output_type": "execute_result"
    }
   ],
   "source": [
    "df"
   ]
  },
  {
   "cell_type": "code",
   "execution_count": 27,
   "id": "8c9dec59-8ee6-49ce-bfc5-8e274275e1fd",
   "metadata": {},
   "outputs": [
    {
     "data": {
      "text/plain": [
       "array([0, 2, 1])"
      ]
     },
     "execution_count": 27,
     "metadata": {},
     "output_type": "execute_result"
    }
   ],
   "source": [
    "from sklearn.preprocessing import LabelEncoder\n",
    "le_available_for = LabelEncoder()\n",
    "df['available_for'] = le_available_for.fit_transform(df['available_for'])\n",
    "df[\"available_for\"].unique()"
   ]
  },
  {
   "cell_type": "code",
   "execution_count": 28,
   "id": "c74e6d96-e4e7-4b1a-a992-bf38bdbbc046",
   "metadata": {},
   "outputs": [],
   "source": [
    "df = df.drop('price_per_sqft',axis='columns')"
   ]
  },
  {
   "cell_type": "code",
   "execution_count": 29,
   "id": "ff72f745-cadb-4c49-a68a-652853e5df1b",
   "metadata": {},
   "outputs": [
    {
     "data": {
      "text/html": [
       "<div>\n",
       "<style scoped>\n",
       "    .dataframe tbody tr th:only-of-type {\n",
       "        vertical-align: middle;\n",
       "    }\n",
       "\n",
       "    .dataframe tbody tr th {\n",
       "        vertical-align: top;\n",
       "    }\n",
       "\n",
       "    .dataframe thead th {\n",
       "        text-align: right;\n",
       "    }\n",
       "</style>\n",
       "<table border=\"1\" class=\"dataframe\">\n",
       "  <thead>\n",
       "    <tr style=\"text-align: right;\">\n",
       "      <th></th>\n",
       "      <th>bedrooms</th>\n",
       "      <th>bathrooms</th>\n",
       "      <th>area</th>\n",
       "      <th>furnishing</th>\n",
       "      <th>available_for</th>\n",
       "      <th>rent</th>\n",
       "    </tr>\n",
       "  </thead>\n",
       "  <tbody>\n",
       "    <tr>\n",
       "      <th>0</th>\n",
       "      <td>2</td>\n",
       "      <td>2</td>\n",
       "      <td>1050.0</td>\n",
       "      <td>2</td>\n",
       "      <td>0</td>\n",
       "      <td>20000.0</td>\n",
       "    </tr>\n",
       "    <tr>\n",
       "      <th>1</th>\n",
       "      <td>2</td>\n",
       "      <td>2</td>\n",
       "      <td>760.0</td>\n",
       "      <td>2</td>\n",
       "      <td>0</td>\n",
       "      <td>14000.0</td>\n",
       "    </tr>\n",
       "    <tr>\n",
       "      <th>3</th>\n",
       "      <td>1</td>\n",
       "      <td>1</td>\n",
       "      <td>628.0</td>\n",
       "      <td>0</td>\n",
       "      <td>2</td>\n",
       "      <td>13000.0</td>\n",
       "    </tr>\n",
       "    <tr>\n",
       "      <th>4</th>\n",
       "      <td>2</td>\n",
       "      <td>2</td>\n",
       "      <td>668.0</td>\n",
       "      <td>1</td>\n",
       "      <td>2</td>\n",
       "      <td>7500.0</td>\n",
       "    </tr>\n",
       "    <tr>\n",
       "      <th>5</th>\n",
       "      <td>2</td>\n",
       "      <td>2</td>\n",
       "      <td>950.0</td>\n",
       "      <td>1</td>\n",
       "      <td>2</td>\n",
       "      <td>17000.0</td>\n",
       "    </tr>\n",
       "    <tr>\n",
       "      <th>...</th>\n",
       "      <td>...</td>\n",
       "      <td>...</td>\n",
       "      <td>...</td>\n",
       "      <td>...</td>\n",
       "      <td>...</td>\n",
       "      <td>...</td>\n",
       "    </tr>\n",
       "    <tr>\n",
       "      <th>10878</th>\n",
       "      <td>2</td>\n",
       "      <td>1</td>\n",
       "      <td>900.0</td>\n",
       "      <td>2</td>\n",
       "      <td>2</td>\n",
       "      <td>15000.0</td>\n",
       "    </tr>\n",
       "    <tr>\n",
       "      <th>10879</th>\n",
       "      <td>2</td>\n",
       "      <td>1</td>\n",
       "      <td>750.0</td>\n",
       "      <td>2</td>\n",
       "      <td>2</td>\n",
       "      <td>15000.0</td>\n",
       "    </tr>\n",
       "    <tr>\n",
       "      <th>10880</th>\n",
       "      <td>2</td>\n",
       "      <td>1</td>\n",
       "      <td>750.0</td>\n",
       "      <td>2</td>\n",
       "      <td>0</td>\n",
       "      <td>11000.0</td>\n",
       "    </tr>\n",
       "    <tr>\n",
       "      <th>10881</th>\n",
       "      <td>3</td>\n",
       "      <td>4</td>\n",
       "      <td>2390.0</td>\n",
       "      <td>2</td>\n",
       "      <td>2</td>\n",
       "      <td>55000.0</td>\n",
       "    </tr>\n",
       "    <tr>\n",
       "      <th>10883</th>\n",
       "      <td>1</td>\n",
       "      <td>1</td>\n",
       "      <td>500.0</td>\n",
       "      <td>0</td>\n",
       "      <td>0</td>\n",
       "      <td>23000.0</td>\n",
       "    </tr>\n",
       "  </tbody>\n",
       "</table>\n",
       "<p>9216 rows × 6 columns</p>\n",
       "</div>"
      ],
      "text/plain": [
       "       bedrooms  bathrooms    area  furnishing  available_for     rent\n",
       "0             2          2  1050.0           2              0  20000.0\n",
       "1             2          2   760.0           2              0  14000.0\n",
       "3             1          1   628.0           0              2  13000.0\n",
       "4             2          2   668.0           1              2   7500.0\n",
       "5             2          2   950.0           1              2  17000.0\n",
       "...         ...        ...     ...         ...            ...      ...\n",
       "10878         2          1   900.0           2              2  15000.0\n",
       "10879         2          1   750.0           2              2  15000.0\n",
       "10880         2          1   750.0           2              0  11000.0\n",
       "10881         3          4  2390.0           2              2  55000.0\n",
       "10883         1          1   500.0           0              0  23000.0\n",
       "\n",
       "[9216 rows x 6 columns]"
      ]
     },
     "execution_count": 29,
     "metadata": {},
     "output_type": "execute_result"
    }
   ],
   "source": [
    "df"
   ]
  },
  {
   "cell_type": "code",
   "execution_count": 30,
   "id": "6f7a0432-ca08-482a-9654-eb7854957362",
   "metadata": {},
   "outputs": [
    {
     "data": {
      "text/html": [
       "<div>\n",
       "<style scoped>\n",
       "    .dataframe tbody tr th:only-of-type {\n",
       "        vertical-align: middle;\n",
       "    }\n",
       "\n",
       "    .dataframe tbody tr th {\n",
       "        vertical-align: top;\n",
       "    }\n",
       "\n",
       "    .dataframe thead th {\n",
       "        text-align: right;\n",
       "    }\n",
       "</style>\n",
       "<table border=\"1\" class=\"dataframe\">\n",
       "  <thead>\n",
       "    <tr style=\"text-align: right;\">\n",
       "      <th></th>\n",
       "      <th>bedrooms</th>\n",
       "      <th>bathrooms</th>\n",
       "      <th>area</th>\n",
       "      <th>furnishing</th>\n",
       "      <th>available_for</th>\n",
       "    </tr>\n",
       "  </thead>\n",
       "  <tbody>\n",
       "    <tr>\n",
       "      <th>0</th>\n",
       "      <td>2</td>\n",
       "      <td>2</td>\n",
       "      <td>1050.0</td>\n",
       "      <td>2</td>\n",
       "      <td>0</td>\n",
       "    </tr>\n",
       "    <tr>\n",
       "      <th>1</th>\n",
       "      <td>2</td>\n",
       "      <td>2</td>\n",
       "      <td>760.0</td>\n",
       "      <td>2</td>\n",
       "      <td>0</td>\n",
       "    </tr>\n",
       "    <tr>\n",
       "      <th>3</th>\n",
       "      <td>1</td>\n",
       "      <td>1</td>\n",
       "      <td>628.0</td>\n",
       "      <td>0</td>\n",
       "      <td>2</td>\n",
       "    </tr>\n",
       "    <tr>\n",
       "      <th>4</th>\n",
       "      <td>2</td>\n",
       "      <td>2</td>\n",
       "      <td>668.0</td>\n",
       "      <td>1</td>\n",
       "      <td>2</td>\n",
       "    </tr>\n",
       "    <tr>\n",
       "      <th>5</th>\n",
       "      <td>2</td>\n",
       "      <td>2</td>\n",
       "      <td>950.0</td>\n",
       "      <td>1</td>\n",
       "      <td>2</td>\n",
       "    </tr>\n",
       "  </tbody>\n",
       "</table>\n",
       "</div>"
      ],
      "text/plain": [
       "   bedrooms  bathrooms    area  furnishing  available_for\n",
       "0         2          2  1050.0           2              0\n",
       "1         2          2   760.0           2              0\n",
       "3         1          1   628.0           0              2\n",
       "4         2          2   668.0           1              2\n",
       "5         2          2   950.0           1              2"
      ]
     },
     "execution_count": 30,
     "metadata": {},
     "output_type": "execute_result"
    }
   ],
   "source": [
    "x = df.drop('rent', axis=1)\n",
    "x.head()"
   ]
  },
  {
   "cell_type": "code",
   "execution_count": 31,
   "id": "d63dda1e-19e8-4a25-8876-9e390c29a15f",
   "metadata": {},
   "outputs": [
    {
     "data": {
      "text/plain": [
       "0    20000.0\n",
       "1    14000.0\n",
       "3    13000.0\n",
       "4     7500.0\n",
       "5    17000.0\n",
       "Name: rent, dtype: float64"
      ]
     },
     "execution_count": 31,
     "metadata": {},
     "output_type": "execute_result"
    }
   ],
   "source": [
    "y = df.rent\n",
    "y.head()"
   ]
  },
  {
   "cell_type": "code",
   "execution_count": 32,
   "id": "685f7c36-745c-4054-b703-bb00a8c21ca6",
   "metadata": {},
   "outputs": [],
   "source": [
    "from sklearn.model_selection import train_test_split\n",
    "xtrain,xtest,ytrain,ytest = train_test_split(x,y,test_size=.2)"
   ]
  },
  {
   "cell_type": "code",
   "execution_count": 33,
   "id": "1cf1b005-8dbd-4d54-aa41-39a9ae50a248",
   "metadata": {},
   "outputs": [
    {
     "data": {
      "text/plain": [
       "0.6625341663807489"
      ]
     },
     "execution_count": 33,
     "metadata": {},
     "output_type": "execute_result"
    }
   ],
   "source": [
    "from sklearn.linear_model import LinearRegression\n",
    "lr = LinearRegression()\n",
    "lr.fit(xtrain,ytrain)\n",
    "lr.score(xtest,ytest)"
   ]
  },
  {
   "cell_type": "code",
   "execution_count": 34,
   "id": "dd562657-47de-49c0-b0b4-0328f0be507f",
   "metadata": {},
   "outputs": [
    {
     "data": {
      "text/plain": [
       "array([0.61915589, 0.63769454, 0.66999617, 0.65633781, 0.63400562])"
      ]
     },
     "execution_count": 34,
     "metadata": {},
     "output_type": "execute_result"
    }
   ],
   "source": [
    "from sklearn.model_selection import ShuffleSplit\n",
    "from sklearn.model_selection import cross_val_score\n",
    "\n",
    "cv = ShuffleSplit(n_splits=5, test_size=.2, random_state=0)\n",
    "\n",
    "cross_val_score(LinearRegression(),x,y,cv=cv)"
   ]
  },
  {
   "cell_type": "code",
   "execution_count": 35,
   "id": "f694d56a-47b2-40d9-9fa9-1836c8e71e93",
   "metadata": {},
   "outputs": [
    {
     "data": {
      "text/plain": [
       "0.48128528202144094"
      ]
     },
     "execution_count": 35,
     "metadata": {},
     "output_type": "execute_result"
    }
   ],
   "source": [
    "from sklearn.tree import DecisionTreeRegressor\n",
    "dt = DecisionTreeRegressor()\n",
    "dt.fit(xtrain,ytrain)\n",
    "dt.score(xtest,ytest)\n"
   ]
  },
  {
   "cell_type": "code",
   "execution_count": 36,
   "id": "25fb72a0-9e70-4fe2-8bc3-638fbfc41769",
   "metadata": {},
   "outputs": [
    {
     "data": {
      "text/plain": [
       "array([0.58831115, 0.56169215, 0.53966146, 0.54045619, 0.52292202])"
      ]
     },
     "execution_count": 36,
     "metadata": {},
     "output_type": "execute_result"
    }
   ],
   "source": [
    "from sklearn.model_selection import ShuffleSplit\n",
    "from sklearn.model_selection import cross_val_score\n",
    "\n",
    "cv = ShuffleSplit(n_splits=5, test_size=.2, random_state=0)\n",
    "\n",
    "cross_val_score(DecisionTreeRegressor(),x,y,cv=cv)"
   ]
  },
  {
   "cell_type": "code",
   "execution_count": 37,
   "id": "1f56f4e8-1b40-470e-8a44-7b50e622c77c",
   "metadata": {},
   "outputs": [
    {
     "data": {
      "text/plain": [
       "0.6071563975754691"
      ]
     },
     "execution_count": 37,
     "metadata": {},
     "output_type": "execute_result"
    }
   ],
   "source": [
    "from sklearn.ensemble import RandomForestRegressor\n",
    "rf = RandomForestRegressor()\n",
    "rf.fit(xtrain,ytrain)\n",
    "rf.score(xtest,ytest)"
   ]
  },
  {
   "cell_type": "code",
   "execution_count": 38,
   "id": "2734c3e3-a648-418a-a295-fb7ef8e69f16",
   "metadata": {},
   "outputs": [
    {
     "data": {
      "text/plain": [
       "array([0.63447591, 0.6097417 , 0.62523461, 0.63803172, 0.59194642])"
      ]
     },
     "execution_count": 38,
     "metadata": {},
     "output_type": "execute_result"
    }
   ],
   "source": [
    "from sklearn.model_selection import ShuffleSplit\n",
    "from sklearn.model_selection import cross_val_score\n",
    "\n",
    "cv = ShuffleSplit(n_splits=5, test_size=.2, random_state=0)\n",
    "\n",
    "cross_val_score(RandomForestRegressor(),x,y,cv=cv)"
   ]
  },
  {
   "cell_type": "code",
   "execution_count": 39,
   "id": "0ca920bf-3534-4613-a14a-b8aae288d05f",
   "metadata": {},
   "outputs": [
    {
     "data": {
      "text/plain": [
       "Index(['bedrooms', 'bathrooms', 'area', 'furnishing', 'available_for'], dtype='object')"
      ]
     },
     "execution_count": 39,
     "metadata": {},
     "output_type": "execute_result"
    }
   ],
   "source": [
    "x.columns"
   ]
  },
  {
   "cell_type": "code",
   "execution_count": 40,
   "id": "abe72ace-53ce-4c34-aed9-e9bd798c6633",
   "metadata": {},
   "outputs": [
    {
     "name": "stderr",
     "output_type": "stream",
     "text": [
      "C:\\Users\\Vedant\\anaconda3\\Lib\\site-packages\\sklearn\\base.py:439: UserWarning: X does not have valid feature names, but RandomForestRegressor was fitted with feature names\n",
      "  warnings.warn(\n"
     ]
    },
    {
     "data": {
      "text/plain": [
       "array([20531.698495])"
      ]
     },
     "execution_count": 40,
     "metadata": {},
     "output_type": "execute_result"
    }
   ],
   "source": [
    "rf.predict([[2,2,1000,2,0]])"
   ]
  },
  {
   "cell_type": "code",
   "execution_count": 42,
   "id": "177393e1-0d0d-4816-bfe1-a3418655593c",
   "metadata": {},
   "outputs": [],
   "source": [
    "import pickle\n",
    "data = {\"model\": rf, \"le_furnishing\": le_furnishing, \"le_available_for\": le_available_for}\n",
    "with open('Model.pkl', 'wb') as file:\n",
    "    pickle.dump(data, file)"
   ]
  },
  {
   "cell_type": "code",
   "execution_count": 43,
   "id": "9f43bd74-0b97-4027-8cd6-ab26e195f3ee",
   "metadata": {},
   "outputs": [],
   "source": [
    "with open('Model.pkl', 'rb') as file:\n",
    "    data = pickle.load(file)\n",
    "\n",
    "forest_loaded = data[\"model\"]\n",
    "le_furnishing = data[\"le_furnishing\"]\n",
    "le_available_for = data[\"le_available_for\"]"
   ]
  },
  {
   "cell_type": "code",
   "execution_count": null,
   "id": "277268aa-f539-4e2d-9bd7-e38c8644b822",
   "metadata": {},
   "outputs": [],
   "source": []
  }
 ],
 "metadata": {
  "kernelspec": {
   "display_name": "Python 3 (ipykernel)",
   "language": "python",
   "name": "python3"
  },
  "language_info": {
   "codemirror_mode": {
    "name": "ipython",
    "version": 3
   },
   "file_extension": ".py",
   "mimetype": "text/x-python",
   "name": "python",
   "nbconvert_exporter": "python",
   "pygments_lexer": "ipython3",
   "version": "3.11.7"
  }
 },
 "nbformat": 4,
 "nbformat_minor": 5
}
